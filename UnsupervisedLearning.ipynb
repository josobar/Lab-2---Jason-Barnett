{
    "metadata": {
        "kernelspec": {
            "name": "python3",
            "display_name": "Python 3 (ipykernel)",
            "language": "python"
        }
    },
    "nbformat": 4,
    "nbformat_minor": 2,
    "cells": [
        {
            "attachments": {},
            "cell_type": "markdown",
            "metadata": {},
            "source": [
                "This code gives an introduction to unsupervised learning by solving a clustering problem using **K-Means Clustering** following [this tutorial](https://youtu.be/EItlUEPCIzM).\n",
                "\n",
                "Replace 'XLABEL' and 'YLABEL' with the respective labels in your data set."
            ]
        },
        {
            "attachments": {},
            "cell_type": "markdown",
            "metadata": {},
            "source": [
                "# Problem description\n",
                "Enter in the text cell below the clustering problem that you're about to work on. \n",
                "\n",
                "What is your X and Y label?"
            ]
        },
        {
            "attachments": {},
            "cell_type": "markdown",
            "metadata": {},
            "source": [
                "number_of_reviews \u0026 price"
            ]
        },
        {
            "attachments": {},
            "cell_type": "markdown",
            "metadata": {},
            "source": [
                "Import packages"
            ]
        },
        {
            "cell_type": "code",
            "execution_count": 7,
            "metadata": {},
            "outputs": [],
            "source": [
                "from sklearn.cluster import KMeans\n",
                "import pandas as pd\n",
                "from sklearn.preprocessing import MinMaxScaler\n",
                "from matplotlib import pyplot as plt\n",
                "%matplotlib inline\n",
                ""
            ]
        },
        {
            "attachments": {},
            "cell_type": "markdown",
            "metadata": {},
            "source": [
                "Import and explore the data set"
            ]
        },
        {
            "cell_type": "code",
            "execution_count": 8,
            "metadata": {},
            "outputs": [],
            "source": [
                "df = pd.read_csv('originalfile.csv')"
            ]
        },
        {
            "attachments": {},
            "cell_type": "markdown",
            "metadata": {},
            "source": [
                "2. Display columns and describe the data set"
            ]
        },
        {
            "cell_type": "code",
            "execution_count": 9,
            "metadata": {},
            "outputs": [
                {
                    "data": {
                        "text/html": "\u003cdiv\u003e\n\u003cstyle scoped\u003e\n    .dataframe tbody tr th:only-of-type {\n        vertical-align: middle;\n    }\n\n    .dataframe tbody tr th {\n        vertical-align: top;\n    }\n\n    .dataframe thead th {\n        text-align: right;\n    }\n\u003c/style\u003e\n\u003ctable border=\"1\" class=\"dataframe\"\u003e\n  \u003cthead\u003e\n    \u003ctr style=\"text-align: right;\"\u003e\n      \u003cth\u003e\u003c/th\u003e\n      \u003cth\u003eid\u003c/th\u003e\n      \u003cth\u003ehost_id\u003c/th\u003e\n      \u003cth\u003elatitude\u003c/th\u003e\n      \u003cth\u003elongitude\u003c/th\u003e\n      \u003cth\u003eprice\u003c/th\u003e\n      \u003cth\u003eminimum_nights\u003c/th\u003e\n      \u003cth\u003enumber_of_reviews\u003c/th\u003e\n      \u003cth\u003ereviews_per_month\u003c/th\u003e\n      \u003cth\u003ecalculated_host_listings_count\u003c/th\u003e\n      \u003cth\u003eavailability_365\u003c/th\u003e\n    \u003c/tr\u003e\n  \u003c/thead\u003e\n  \u003ctbody\u003e\n    \u003ctr\u003e\n      \u003cth\u003ecount\u003c/th\u003e\n      \u003ctd\u003e4.889500e+04\u003c/td\u003e\n      \u003ctd\u003e4.889500e+04\u003c/td\u003e\n      \u003ctd\u003e48895.000000\u003c/td\u003e\n      \u003ctd\u003e48895.000000\u003c/td\u003e\n      \u003ctd\u003e48895.000000\u003c/td\u003e\n      \u003ctd\u003e48895.000000\u003c/td\u003e\n      \u003ctd\u003e48895.000000\u003c/td\u003e\n      \u003ctd\u003e38843.000000\u003c/td\u003e\n      \u003ctd\u003e48895.000000\u003c/td\u003e\n      \u003ctd\u003e48895.000000\u003c/td\u003e\n    \u003c/tr\u003e\n    \u003ctr\u003e\n      \u003cth\u003emean\u003c/th\u003e\n      \u003ctd\u003e1.901714e+07\u003c/td\u003e\n      \u003ctd\u003e6.762001e+07\u003c/td\u003e\n      \u003ctd\u003e40.728949\u003c/td\u003e\n      \u003ctd\u003e-73.952170\u003c/td\u003e\n      \u003ctd\u003e152.720687\u003c/td\u003e\n      \u003ctd\u003e7.029962\u003c/td\u003e\n      \u003ctd\u003e23.274466\u003c/td\u003e\n      \u003ctd\u003e1.373221\u003c/td\u003e\n      \u003ctd\u003e7.143982\u003c/td\u003e\n      \u003ctd\u003e112.781327\u003c/td\u003e\n    \u003c/tr\u003e\n    \u003ctr\u003e\n      \u003cth\u003estd\u003c/th\u003e\n      \u003ctd\u003e1.098311e+07\u003c/td\u003e\n      \u003ctd\u003e7.861097e+07\u003c/td\u003e\n      \u003ctd\u003e0.054530\u003c/td\u003e\n      \u003ctd\u003e0.046157\u003c/td\u003e\n      \u003ctd\u003e240.154170\u003c/td\u003e\n      \u003ctd\u003e20.510550\u003c/td\u003e\n      \u003ctd\u003e44.550582\u003c/td\u003e\n      \u003ctd\u003e1.680442\u003c/td\u003e\n      \u003ctd\u003e32.952519\u003c/td\u003e\n      \u003ctd\u003e131.622289\u003c/td\u003e\n    \u003c/tr\u003e\n    \u003ctr\u003e\n      \u003cth\u003emin\u003c/th\u003e\n      \u003ctd\u003e2.539000e+03\u003c/td\u003e\n      \u003ctd\u003e2.438000e+03\u003c/td\u003e\n      \u003ctd\u003e40.499790\u003c/td\u003e\n      \u003ctd\u003e-74.244420\u003c/td\u003e\n      \u003ctd\u003e0.000000\u003c/td\u003e\n      \u003ctd\u003e1.000000\u003c/td\u003e\n      \u003ctd\u003e0.000000\u003c/td\u003e\n      \u003ctd\u003e0.010000\u003c/td\u003e\n      \u003ctd\u003e1.000000\u003c/td\u003e\n      \u003ctd\u003e0.000000\u003c/td\u003e\n    \u003c/tr\u003e\n    \u003ctr\u003e\n      \u003cth\u003e25%\u003c/th\u003e\n      \u003ctd\u003e9.471945e+06\u003c/td\u003e\n      \u003ctd\u003e7.822033e+06\u003c/td\u003e\n      \u003ctd\u003e40.690100\u003c/td\u003e\n      \u003ctd\u003e-73.983070\u003c/td\u003e\n      \u003ctd\u003e69.000000\u003c/td\u003e\n      \u003ctd\u003e1.000000\u003c/td\u003e\n      \u003ctd\u003e1.000000\u003c/td\u003e\n      \u003ctd\u003e0.190000\u003c/td\u003e\n      \u003ctd\u003e1.000000\u003c/td\u003e\n      \u003ctd\u003e0.000000\u003c/td\u003e\n    \u003c/tr\u003e\n    \u003ctr\u003e\n      \u003cth\u003e50%\u003c/th\u003e\n      \u003ctd\u003e1.967728e+07\u003c/td\u003e\n      \u003ctd\u003e3.079382e+07\u003c/td\u003e\n      \u003ctd\u003e40.723070\u003c/td\u003e\n      \u003ctd\u003e-73.955680\u003c/td\u003e\n      \u003ctd\u003e106.000000\u003c/td\u003e\n      \u003ctd\u003e3.000000\u003c/td\u003e\n      \u003ctd\u003e5.000000\u003c/td\u003e\n      \u003ctd\u003e0.720000\u003c/td\u003e\n      \u003ctd\u003e1.000000\u003c/td\u003e\n      \u003ctd\u003e45.000000\u003c/td\u003e\n    \u003c/tr\u003e\n    \u003ctr\u003e\n      \u003cth\u003e75%\u003c/th\u003e\n      \u003ctd\u003e2.915218e+07\u003c/td\u003e\n      \u003ctd\u003e1.074344e+08\u003c/td\u003e\n      \u003ctd\u003e40.763115\u003c/td\u003e\n      \u003ctd\u003e-73.936275\u003c/td\u003e\n      \u003ctd\u003e175.000000\u003c/td\u003e\n      \u003ctd\u003e5.000000\u003c/td\u003e\n      \u003ctd\u003e24.000000\u003c/td\u003e\n      \u003ctd\u003e2.020000\u003c/td\u003e\n      \u003ctd\u003e2.000000\u003c/td\u003e\n      \u003ctd\u003e227.000000\u003c/td\u003e\n    \u003c/tr\u003e\n    \u003ctr\u003e\n      \u003cth\u003emax\u003c/th\u003e\n      \u003ctd\u003e3.648724e+07\u003c/td\u003e\n      \u003ctd\u003e2.743213e+08\u003c/td\u003e\n      \u003ctd\u003e40.913060\u003c/td\u003e\n      \u003ctd\u003e-73.712990\u003c/td\u003e\n      \u003ctd\u003e10000.000000\u003c/td\u003e\n      \u003ctd\u003e1250.000000\u003c/td\u003e\n      \u003ctd\u003e629.000000\u003c/td\u003e\n      \u003ctd\u003e58.500000\u003c/td\u003e\n      \u003ctd\u003e327.000000\u003c/td\u003e\n      \u003ctd\u003e365.000000\u003c/td\u003e\n    \u003c/tr\u003e\n  \u003c/tbody\u003e\n\u003c/table\u003e\n\u003c/div\u003e",
                        "text/plain": "                 id       host_id      latitude     longitude         price  \\\ncount  4.889500e+04  4.889500e+04  48895.000000  48895.000000  48895.000000   \nmean   1.901714e+07  6.762001e+07     40.728949    -73.952170    152.720687   \nstd    1.098311e+07  7.861097e+07      0.054530      0.046157    240.154170   \nmin    2.539000e+03  2.438000e+03     40.499790    -74.244420      0.000000   \n25%    9.471945e+06  7.822033e+06     40.690100    -73.983070     69.000000   \n50%    1.967728e+07  3.079382e+07     40.723070    -73.955680    106.000000   \n75%    2.915218e+07  1.074344e+08     40.763115    -73.936275    175.000000   \nmax    3.648724e+07  2.743213e+08     40.913060    -73.712990  10000.000000   \n\n       minimum_nights  number_of_reviews  reviews_per_month  \\\ncount    48895.000000       48895.000000       38843.000000   \nmean         7.029962          23.274466           1.373221   \nstd         20.510550          44.550582           1.680442   \nmin          1.000000           0.000000           0.010000   \n25%          1.000000           1.000000           0.190000   \n50%          3.000000           5.000000           0.720000   \n75%          5.000000          24.000000           2.020000   \nmax       1250.000000         629.000000          58.500000   \n\n       calculated_host_listings_count  availability_365  \ncount                    48895.000000      48895.000000  \nmean                         7.143982        112.781327  \nstd                         32.952519        131.622289  \nmin                          1.000000          0.000000  \n25%                          1.000000          0.000000  \n50%                          1.000000         45.000000  \n75%                          2.000000        227.000000  \nmax                        327.000000        365.000000  "
                    },
                    "execution_count": 9,
                    "metadata": {},
                    "output_type": "execute_result"
                }
            ],
            "source": [
                "df.describe()"
            ]
        },
        {
            "attachments": {},
            "cell_type": "markdown",
            "metadata": {},
            "source": [
                "Scatter plot"
            ]
        },
        {
            "cell_type": "code",
            "execution_count": 0,
            "metadata": {},
            "outputs": [],
            "source": [
                ""
            ]
        },
        {
            "cell_type": "code",
            "execution_count": 16,
            "metadata": {},
            "outputs": [
                {
                    "data": {
                        "text/plain": "Text(0, 0.5, 'price')"
                    },
                    "execution_count": 16,
                    "metadata": {},
                    "output_type": "execute_result"
                },
                {
                    "data": {
                        "image/png": "[encoded data removed]",
                        "text/plain": "\u003cFigure size 432x288 with 1 Axes\u003e"
                    },
                    "metadata": {
                        "needs_background": "light"
                    },
                    "output_type": "display_data"
                }
            ],
            "source": [
                "plt.scatter(df.number_of_reviews,df['number_of_reviews'])\n",
                "plt.xlabel('number_of_reviews')\n",
                "plt.ylabel('price')"
            ]
        },
        {
            "attachments": {},
            "cell_type": "markdown",
            "metadata": {},
            "source": [
                "Fit and predict three clusters for the data"
            ]
        },
        {
            "cell_type": "code",
            "execution_count": 17,
            "metadata": {},
            "outputs": [
                {
                    "data": {
                        "text/plain": "array([0, 0, 0, ..., 0, 0, 0], dtype=int32)"
                    },
                    "execution_count": 17,
                    "metadata": {},
                    "output_type": "execute_result"
                }
            ],
            "source": [
                "km = KMeans(n_clusters=3)\n",
                "y_predicted = km.fit_predict(df[['number_of_reviews','price']])\n",
                "y_predicted"
            ]
        },
        {
            "cell_type": "code",
            "execution_count": 18,
            "metadata": {},
            "outputs": [
                {
                    "data": {
                        "text/html": "\u003cdiv\u003e\n\u003cstyle scoped\u003e\n    .dataframe tbody tr th:only-of-type {\n        vertical-align: middle;\n    }\n\n    .dataframe tbody tr th {\n        vertical-align: top;\n    }\n\n    .dataframe thead th {\n        text-align: right;\n    }\n\u003c/style\u003e\n\u003ctable border=\"1\" class=\"dataframe\"\u003e\n  \u003cthead\u003e\n    \u003ctr style=\"text-align: right;\"\u003e\n      \u003cth\u003e\u003c/th\u003e\n      \u003cth\u003eid\u003c/th\u003e\n      \u003cth\u003ename\u003c/th\u003e\n      \u003cth\u003ehost_id\u003c/th\u003e\n      \u003cth\u003ehost_name\u003c/th\u003e\n      \u003cth\u003eneighbourhood_group\u003c/th\u003e\n      \u003cth\u003eneighbourhood\u003c/th\u003e\n      \u003cth\u003elatitude\u003c/th\u003e\n      \u003cth\u003elongitude\u003c/th\u003e\n      \u003cth\u003eroom_type\u003c/th\u003e\n      \u003cth\u003eprice\u003c/th\u003e\n      \u003cth\u003eminimum_nights\u003c/th\u003e\n      \u003cth\u003enumber_of_reviews\u003c/th\u003e\n      \u003cth\u003elast_review\u003c/th\u003e\n      \u003cth\u003ereviews_per_month\u003c/th\u003e\n      \u003cth\u003ecalculated_host_listings_count\u003c/th\u003e\n      \u003cth\u003eavailability_365\u003c/th\u003e\n      \u003cth\u003ecluster\u003c/th\u003e\n    \u003c/tr\u003e\n  \u003c/thead\u003e\n  \u003ctbody\u003e\n    \u003ctr\u003e\n      \u003cth\u003e0\u003c/th\u003e\n      \u003ctd\u003e2539\u003c/td\u003e\n      \u003ctd\u003eClean \u0026amp; quiet apt home by the park\u003c/td\u003e\n      \u003ctd\u003e2787\u003c/td\u003e\n      \u003ctd\u003eJohn\u003c/td\u003e\n      \u003ctd\u003eBrooklyn\u003c/td\u003e\n      \u003ctd\u003eKensington\u003c/td\u003e\n      \u003ctd\u003e40.64749\u003c/td\u003e\n      \u003ctd\u003e-73.97237\u003c/td\u003e\n      \u003ctd\u003ePrivate room\u003c/td\u003e\n      \u003ctd\u003e149\u003c/td\u003e\n      \u003ctd\u003e1\u003c/td\u003e\n      \u003ctd\u003e9\u003c/td\u003e\n      \u003ctd\u003e2018-10-19\u003c/td\u003e\n      \u003ctd\u003e0.21\u003c/td\u003e\n      \u003ctd\u003e6\u003c/td\u003e\n      \u003ctd\u003e365\u003c/td\u003e\n      \u003ctd\u003e0\u003c/td\u003e\n    \u003c/tr\u003e\n    \u003ctr\u003e\n      \u003cth\u003e1\u003c/th\u003e\n      \u003ctd\u003e2595\u003c/td\u003e\n      \u003ctd\u003eSkylit Midtown Castle\u003c/td\u003e\n      \u003ctd\u003e2845\u003c/td\u003e\n      \u003ctd\u003eJennifer\u003c/td\u003e\n      \u003ctd\u003eManhattan\u003c/td\u003e\n      \u003ctd\u003eMidtown\u003c/td\u003e\n      \u003ctd\u003e40.75362\u003c/td\u003e\n      \u003ctd\u003e-73.98377\u003c/td\u003e\n      \u003ctd\u003eEntire home/apt\u003c/td\u003e\n      \u003ctd\u003e225\u003c/td\u003e\n      \u003ctd\u003e1\u003c/td\u003e\n      \u003ctd\u003e45\u003c/td\u003e\n      \u003ctd\u003e2019-05-21\u003c/td\u003e\n      \u003ctd\u003e0.38\u003c/td\u003e\n      \u003ctd\u003e2\u003c/td\u003e\n      \u003ctd\u003e355\u003c/td\u003e\n      \u003ctd\u003e0\u003c/td\u003e\n    \u003c/tr\u003e\n    \u003ctr\u003e\n      \u003cth\u003e2\u003c/th\u003e\n      \u003ctd\u003e3647\u003c/td\u003e\n      \u003ctd\u003eTHE VILLAGE OF HARLEM....NEW YORK !\u003c/td\u003e\n      \u003ctd\u003e4632\u003c/td\u003e\n      \u003ctd\u003eElisabeth\u003c/td\u003e\n      \u003ctd\u003eManhattan\u003c/td\u003e\n      \u003ctd\u003eHarlem\u003c/td\u003e\n      \u003ctd\u003e40.80902\u003c/td\u003e\n      \u003ctd\u003e-73.94190\u003c/td\u003e\n      \u003ctd\u003ePrivate room\u003c/td\u003e\n      \u003ctd\u003e150\u003c/td\u003e\n      \u003ctd\u003e3\u003c/td\u003e\n      \u003ctd\u003e0\u003c/td\u003e\n      \u003ctd\u003eNaN\u003c/td\u003e\n      \u003ctd\u003eNaN\u003c/td\u003e\n      \u003ctd\u003e1\u003c/td\u003e\n      \u003ctd\u003e365\u003c/td\u003e\n      \u003ctd\u003e0\u003c/td\u003e\n    \u003c/tr\u003e\n    \u003ctr\u003e\n      \u003cth\u003e3\u003c/th\u003e\n      \u003ctd\u003e3831\u003c/td\u003e\n      \u003ctd\u003eCozy Entire Floor of Brownstone\u003c/td\u003e\n      \u003ctd\u003e4869\u003c/td\u003e\n      \u003ctd\u003eLisaRoxanne\u003c/td\u003e\n      \u003ctd\u003eBrooklyn\u003c/td\u003e\n      \u003ctd\u003eClinton Hill\u003c/td\u003e\n      \u003ctd\u003e40.68514\u003c/td\u003e\n      \u003ctd\u003e-73.95976\u003c/td\u003e\n      \u003ctd\u003eEntire home/apt\u003c/td\u003e\n      \u003ctd\u003e89\u003c/td\u003e\n      \u003ctd\u003e1\u003c/td\u003e\n      \u003ctd\u003e270\u003c/td\u003e\n      \u003ctd\u003e2019-07-05\u003c/td\u003e\n      \u003ctd\u003e4.64\u003c/td\u003e\n      \u003ctd\u003e1\u003c/td\u003e\n      \u003ctd\u003e194\u003c/td\u003e\n      \u003ctd\u003e0\u003c/td\u003e\n    \u003c/tr\u003e\n    \u003ctr\u003e\n      \u003cth\u003e4\u003c/th\u003e\n      \u003ctd\u003e5022\u003c/td\u003e\n      \u003ctd\u003eEntire Apt: Spacious Studio/Loft by central park\u003c/td\u003e\n      \u003ctd\u003e7192\u003c/td\u003e\n      \u003ctd\u003eLaura\u003c/td\u003e\n      \u003ctd\u003eManhattan\u003c/td\u003e\n      \u003ctd\u003eEast Harlem\u003c/td\u003e\n      \u003ctd\u003e40.79851\u003c/td\u003e\n      \u003ctd\u003e-73.94399\u003c/td\u003e\n      \u003ctd\u003eEntire home/apt\u003c/td\u003e\n      \u003ctd\u003e80\u003c/td\u003e\n      \u003ctd\u003e10\u003c/td\u003e\n      \u003ctd\u003e9\u003c/td\u003e\n      \u003ctd\u003e2018-11-19\u003c/td\u003e\n      \u003ctd\u003e0.10\u003c/td\u003e\n      \u003ctd\u003e1\u003c/td\u003e\n      \u003ctd\u003e0\u003c/td\u003e\n      \u003ctd\u003e0\u003c/td\u003e\n    \u003c/tr\u003e\n  \u003c/tbody\u003e\n\u003c/table\u003e\n\u003c/div\u003e",
                        "text/plain": "     id                                              name  host_id  \\\n0  2539                Clean \u0026 quiet apt home by the park     2787   \n1  2595                             Skylit Midtown Castle     2845   \n2  3647               THE VILLAGE OF HARLEM....NEW YORK !     4632   \n3  3831                   Cozy Entire Floor of Brownstone     4869   \n4  5022  Entire Apt: Spacious Studio/Loft by central park     7192   \n\n     host_name neighbourhood_group neighbourhood  latitude  longitude  \\\n0         John            Brooklyn    Kensington  40.64749  -73.97237   \n1     Jennifer           Manhattan       Midtown  40.75362  -73.98377   \n2    Elisabeth           Manhattan        Harlem  40.80902  -73.94190   \n3  LisaRoxanne            Brooklyn  Clinton Hill  40.68514  -73.95976   \n4        Laura           Manhattan   East Harlem  40.79851  -73.94399   \n\n         room_type  price  minimum_nights  number_of_reviews last_review  \\\n0     Private room    149               1                  9  2018-10-19   \n1  Entire home/apt    225               1                 45  2019-05-21   \n2     Private room    150               3                  0         NaN   \n3  Entire home/apt     89               1                270  2019-07-05   \n4  Entire home/apt     80              10                  9  2018-11-19   \n\n   reviews_per_month  calculated_host_listings_count  availability_365  \\\n0               0.21                               6               365   \n1               0.38                               2               355   \n2                NaN                               1               365   \n3               4.64                               1               194   \n4               0.10                               1                 0   \n\n   cluster  \n0        0  \n1        0  \n2        0  \n3        0  \n4        0  "
                    },
                    "execution_count": 18,
                    "metadata": {},
                    "output_type": "execute_result"
                }
            ],
            "source": [
                "df['cluster']=y_predicted\n",
                "df.head()"
            ]
        },
        {
            "cell_type": "code",
            "execution_count": 19,
            "metadata": {},
            "outputs": [
                {
                    "data": {
                        "text/plain": "array([[2.35372168e+01, 1.31888861e+02],\n       [1.95348837e+00, 5.84586047e+03],\n       [1.10825496e+01, 9.39486938e+02]])"
                    },
                    "execution_count": 19,
                    "metadata": {},
                    "output_type": "execute_result"
                }
            ],
            "source": [
                "km.cluster_centers_"
            ]
        },
        {
            "cell_type": "code",
            "execution_count": 21,
            "metadata": {},
            "outputs": [
                {
                    "data": {
                        "text/plain": "\u003cmatplotlib.legend.Legend at 0x7fc9bf103d60\u003e"
                    },
                    "execution_count": 21,
                    "metadata": {},
                    "output_type": "execute_result"
                },
                {
                    "data": {
                        "image/png": "[encoded data removed]",
                        "text/plain": "\u003cFigure size 432x288 with 1 Axes\u003e"
                    },
                    "metadata": {
                        "needs_background": "light"
                    },
                    "output_type": "display_data"
                }
            ],
            "source": [
                "df1 = df[df.cluster==0]\n",
                "df2 = df[df.cluster==1]\n",
                "df3 = df[df.cluster==2]\n",
                "plt.scatter(df1.number_of_reviews,df1['price'],color='green')\n",
                "plt.scatter(df2.number_of_reviews,df2['price'],color='red')\n",
                "plt.scatter(df3.number_of_reviews,df3['price'],color='black')\n",
                "plt.scatter(km.cluster_centers_[:,0],km.cluster_centers_[:,1],color='purple',marker='*',label='centroid')\n",
                "plt.xlabel('number_of_reviews')\n",
                "plt.ylabel('price')\n",
                "plt.legend()"
            ]
        },
        {
            "attachments": {},
            "cell_type": "markdown",
            "metadata": {},
            "source": [
                "Fit the model using MinMaxScaler()"
            ]
        },
        {
            "cell_type": "code",
            "execution_count": 23,
            "metadata": {},
            "outputs": [],
            "source": [
                "scaler = MinMaxScaler()\n",
                "\n",
                "scaler.fit(df[['price']])\n",
                "df['price'] = scaler.transform(df[['price']])\n",
                "\n",
                "scaler.fit(df[['number_of_reviews']])\n",
                "df['number_of_reviews'] = scaler.transform(df[['number_of_reviews']])"
            ]
        },
        {
            "cell_type": "code",
            "execution_count": 10,
            "metadata": {},
            "outputs": [],
            "source": [
                "plt.scatter(df.XLABEL,df['price'])"
            ]
        },
        {
            "cell_type": "code",
            "execution_count": 24,
            "metadata": {},
            "outputs": [
                {
                    "data": {
                        "text/plain": "array([0, 1, 0, ..., 0, 0, 0], dtype=int32)"
                    },
                    "execution_count": 24,
                    "metadata": {},
                    "output_type": "execute_result"
                }
            ],
            "source": [
                "km = KMeans(n_clusters=3)\n",
                "y_predicted = km.fit_predict(df[['number_of_reviews','price']])\n",
                "y_predicted"
            ]
        },
        {
            "cell_type": "code",
            "execution_count": 25,
            "metadata": {},
            "outputs": [
                {
                    "data": {
                        "text/html": "\u003cdiv\u003e\n\u003cstyle scoped\u003e\n    .dataframe tbody tr th:only-of-type {\n        vertical-align: middle;\n    }\n\n    .dataframe tbody tr th {\n        vertical-align: top;\n    }\n\n    .dataframe thead th {\n        text-align: right;\n    }\n\u003c/style\u003e\n\u003ctable border=\"1\" class=\"dataframe\"\u003e\n  \u003cthead\u003e\n    \u003ctr style=\"text-align: right;\"\u003e\n      \u003cth\u003e\u003c/th\u003e\n      \u003cth\u003eid\u003c/th\u003e\n      \u003cth\u003ename\u003c/th\u003e\n      \u003cth\u003ehost_id\u003c/th\u003e\n      \u003cth\u003ehost_name\u003c/th\u003e\n      \u003cth\u003eneighbourhood_group\u003c/th\u003e\n      \u003cth\u003eneighbourhood\u003c/th\u003e\n      \u003cth\u003elatitude\u003c/th\u003e\n      \u003cth\u003elongitude\u003c/th\u003e\n      \u003cth\u003eroom_type\u003c/th\u003e\n      \u003cth\u003eprice\u003c/th\u003e\n      \u003cth\u003eminimum_nights\u003c/th\u003e\n      \u003cth\u003enumber_of_reviews\u003c/th\u003e\n      \u003cth\u003elast_review\u003c/th\u003e\n      \u003cth\u003ereviews_per_month\u003c/th\u003e\n      \u003cth\u003ecalculated_host_listings_count\u003c/th\u003e\n      \u003cth\u003eavailability_365\u003c/th\u003e\n      \u003cth\u003ecluster\u003c/th\u003e\n    \u003c/tr\u003e\n  \u003c/thead\u003e\n  \u003ctbody\u003e\n    \u003ctr\u003e\n      \u003cth\u003e0\u003c/th\u003e\n      \u003ctd\u003e2539\u003c/td\u003e\n      \u003ctd\u003eClean \u0026amp; quiet apt home by the park\u003c/td\u003e\n      \u003ctd\u003e2787\u003c/td\u003e\n      \u003ctd\u003eJohn\u003c/td\u003e\n      \u003ctd\u003eBrooklyn\u003c/td\u003e\n      \u003ctd\u003eKensington\u003c/td\u003e\n      \u003ctd\u003e40.64749\u003c/td\u003e\n      \u003ctd\u003e-73.97237\u003c/td\u003e\n      \u003ctd\u003ePrivate room\u003c/td\u003e\n      \u003ctd\u003e0.0149\u003c/td\u003e\n      \u003ctd\u003e1\u003c/td\u003e\n      \u003ctd\u003e0.014308\u003c/td\u003e\n      \u003ctd\u003e2018-10-19\u003c/td\u003e\n      \u003ctd\u003e0.21\u003c/td\u003e\n      \u003ctd\u003e6\u003c/td\u003e\n      \u003ctd\u003e365\u003c/td\u003e\n      \u003ctd\u003e0\u003c/td\u003e\n    \u003c/tr\u003e\n    \u003ctr\u003e\n      \u003cth\u003e1\u003c/th\u003e\n      \u003ctd\u003e2595\u003c/td\u003e\n      \u003ctd\u003eSkylit Midtown Castle\u003c/td\u003e\n      \u003ctd\u003e2845\u003c/td\u003e\n      \u003ctd\u003eJennifer\u003c/td\u003e\n      \u003ctd\u003eManhattan\u003c/td\u003e\n      \u003ctd\u003eMidtown\u003c/td\u003e\n      \u003ctd\u003e40.75362\u003c/td\u003e\n      \u003ctd\u003e-73.98377\u003c/td\u003e\n      \u003ctd\u003eEntire home/apt\u003c/td\u003e\n      \u003ctd\u003e0.0225\u003c/td\u003e\n      \u003ctd\u003e1\u003c/td\u003e\n      \u003ctd\u003e0.071542\u003c/td\u003e\n      \u003ctd\u003e2019-05-21\u003c/td\u003e\n      \u003ctd\u003e0.38\u003c/td\u003e\n      \u003ctd\u003e2\u003c/td\u003e\n      \u003ctd\u003e355\u003c/td\u003e\n      \u003ctd\u003e1\u003c/td\u003e\n    \u003c/tr\u003e\n    \u003ctr\u003e\n      \u003cth\u003e2\u003c/th\u003e\n      \u003ctd\u003e3647\u003c/td\u003e\n      \u003ctd\u003eTHE VILLAGE OF HARLEM....NEW YORK !\u003c/td\u003e\n      \u003ctd\u003e4632\u003c/td\u003e\n      \u003ctd\u003eElisabeth\u003c/td\u003e\n      \u003ctd\u003eManhattan\u003c/td\u003e\n      \u003ctd\u003eHarlem\u003c/td\u003e\n      \u003ctd\u003e40.80902\u003c/td\u003e\n      \u003ctd\u003e-73.94190\u003c/td\u003e\n      \u003ctd\u003ePrivate room\u003c/td\u003e\n      \u003ctd\u003e0.0150\u003c/td\u003e\n      \u003ctd\u003e3\u003c/td\u003e\n      \u003ctd\u003e0.000000\u003c/td\u003e\n      \u003ctd\u003eNaN\u003c/td\u003e\n      \u003ctd\u003eNaN\u003c/td\u003e\n      \u003ctd\u003e1\u003c/td\u003e\n      \u003ctd\u003e365\u003c/td\u003e\n      \u003ctd\u003e0\u003c/td\u003e\n    \u003c/tr\u003e\n    \u003ctr\u003e\n      \u003cth\u003e3\u003c/th\u003e\n      \u003ctd\u003e3831\u003c/td\u003e\n      \u003ctd\u003eCozy Entire Floor of Brownstone\u003c/td\u003e\n      \u003ctd\u003e4869\u003c/td\u003e\n      \u003ctd\u003eLisaRoxanne\u003c/td\u003e\n      \u003ctd\u003eBrooklyn\u003c/td\u003e\n      \u003ctd\u003eClinton Hill\u003c/td\u003e\n      \u003ctd\u003e40.68514\u003c/td\u003e\n      \u003ctd\u003e-73.95976\u003c/td\u003e\n      \u003ctd\u003eEntire home/apt\u003c/td\u003e\n      \u003ctd\u003e0.0089\u003c/td\u003e\n      \u003ctd\u003e1\u003c/td\u003e\n      \u003ctd\u003e0.429253\u003c/td\u003e\n      \u003ctd\u003e2019-07-05\u003c/td\u003e\n      \u003ctd\u003e4.64\u003c/td\u003e\n      \u003ctd\u003e1\u003c/td\u003e\n      \u003ctd\u003e194\u003c/td\u003e\n      \u003ctd\u003e2\u003c/td\u003e\n    \u003c/tr\u003e\n    \u003ctr\u003e\n      \u003cth\u003e4\u003c/th\u003e\n      \u003ctd\u003e5022\u003c/td\u003e\n      \u003ctd\u003eEntire Apt: Spacious Studio/Loft by central park\u003c/td\u003e\n      \u003ctd\u003e7192\u003c/td\u003e\n      \u003ctd\u003eLaura\u003c/td\u003e\n      \u003ctd\u003eManhattan\u003c/td\u003e\n      \u003ctd\u003eEast Harlem\u003c/td\u003e\n      \u003ctd\u003e40.79851\u003c/td\u003e\n      \u003ctd\u003e-73.94399\u003c/td\u003e\n      \u003ctd\u003eEntire home/apt\u003c/td\u003e\n      \u003ctd\u003e0.0080\u003c/td\u003e\n      \u003ctd\u003e10\u003c/td\u003e\n      \u003ctd\u003e0.014308\u003c/td\u003e\n      \u003ctd\u003e2018-11-19\u003c/td\u003e\n      \u003ctd\u003e0.10\u003c/td\u003e\n      \u003ctd\u003e1\u003c/td\u003e\n      \u003ctd\u003e0\u003c/td\u003e\n      \u003ctd\u003e0\u003c/td\u003e\n    \u003c/tr\u003e\n  \u003c/tbody\u003e\n\u003c/table\u003e\n\u003c/div\u003e",
                        "text/plain": "     id                                              name  host_id  \\\n0  2539                Clean \u0026 quiet apt home by the park     2787   \n1  2595                             Skylit Midtown Castle     2845   \n2  3647               THE VILLAGE OF HARLEM....NEW YORK !     4632   \n3  3831                   Cozy Entire Floor of Brownstone     4869   \n4  5022  Entire Apt: Spacious Studio/Loft by central park     7192   \n\n     host_name neighbourhood_group neighbourhood  latitude  longitude  \\\n0         John            Brooklyn    Kensington  40.64749  -73.97237   \n1     Jennifer           Manhattan       Midtown  40.75362  -73.98377   \n2    Elisabeth           Manhattan        Harlem  40.80902  -73.94190   \n3  LisaRoxanne            Brooklyn  Clinton Hill  40.68514  -73.95976   \n4        Laura           Manhattan   East Harlem  40.79851  -73.94399   \n\n         room_type   price  minimum_nights  number_of_reviews last_review  \\\n0     Private room  0.0149               1           0.014308  2018-10-19   \n1  Entire home/apt  0.0225               1           0.071542  2019-05-21   \n2     Private room  0.0150               3           0.000000         NaN   \n3  Entire home/apt  0.0089               1           0.429253  2019-07-05   \n4  Entire home/apt  0.0080              10           0.014308  2018-11-19   \n\n   reviews_per_month  calculated_host_listings_count  availability_365  \\\n0               0.21                               6               365   \n1               0.38                               2               355   \n2                NaN                               1               365   \n3               4.64                               1               194   \n4               0.10                               1                 0   \n\n   cluster  \n0        0  \n1        1  \n2        0  \n3        2  \n4        0  "
                    },
                    "execution_count": 25,
                    "metadata": {},
                    "output_type": "execute_result"
                }
            ],
            "source": [
                "df['cluster']=y_predicted\n",
                "df.head()"
            ]
        },
        {
            "cell_type": "code",
            "execution_count": 26,
            "metadata": {},
            "outputs": [
                {
                    "data": {
                        "text/plain": "array([[0.01240456, 0.01572726],\n       [0.12598791, 0.01308507],\n       [0.33186403, 0.01212261]])"
                    },
                    "execution_count": 26,
                    "metadata": {},
                    "output_type": "execute_result"
                }
            ],
            "source": [
                "km.cluster_centers_"
            ]
        },
        {
            "cell_type": "code",
            "execution_count": 28,
            "metadata": {},
            "outputs": [
                {
                    "data": {
                        "text/plain": "\u003cmatplotlib.legend.Legend at 0x7fc9be780eb0\u003e"
                    },
                    "execution_count": 28,
                    "metadata": {},
                    "output_type": "execute_result"
                },
                {
                    "data": {
                        "image/png": "[encoded data removed]",
                        "text/plain": "\u003cFigure size 432x288 with 1 Axes\u003e"
                    },
                    "metadata": {
                        "needs_background": "light"
                    },
                    "output_type": "display_data"
                }
            ],
            "source": [
                "df1 = df[df.cluster==0]\n",
                "df2 = df[df.cluster==1]\n",
                "df3 = df[df.cluster==2]\n",
                "plt.scatter(df1.number_of_reviews,df1['price'],color='green')\n",
                "plt.scatter(df2.number_of_reviews,df2['price'],color='red')\n",
                "plt.scatter(df3.number_of_reviews,df3['price'],color='black')\n",
                "plt.scatter(km.cluster_centers_[:,0],km.cluster_centers_[:,1],color='purple',marker='*',label='centroid')\n",
                "plt.legend()"
            ]
        },
        {
            "cell_type": "code",
            "execution_count": 29,
            "metadata": {},
            "outputs": [],
            "source": [
                "sse = []\n",
                "k_rng = range(1,10)\n",
                "for k in k_rng:\n",
                "    km = KMeans(n_clusters=k)\n",
                "    km.fit(df[['number_of_reviews','price']])\n",
                "    sse.append(km.inertia_)"
            ]
        },
        {
            "cell_type": "code",
            "execution_count": 30,
            "metadata": {},
            "outputs": [
                {
                    "data": {
                        "text/plain": "[\u003cmatplotlib.lines.Line2D at 0x7fc9bec4dc40\u003e]"
                    },
                    "execution_count": 30,
                    "metadata": {},
                    "output_type": "execute_result"
                },
                {
                    "data": {
                        "image/png": "[encoded data removed]",
                        "text/plain": "\u003cFigure size 432x288 with 1 Axes\u003e"
                    },
                    "metadata": {
                        "needs_background": "light"
                    },
                    "output_type": "display_data"
                }
            ],
            "source": [
                "plt.xlabel('K')\n",
                "plt.ylabel('Sum of squared error')\n",
                "plt.plot(k_rng,sse)"
            ]
        }
    ]
}
