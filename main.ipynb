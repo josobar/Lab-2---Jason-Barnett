{
    "metadata": {
        "kernelspec": {
            "name": "python3",
            "display_name": "Python 3 (ipykernel)",
            "language": "python"
        }
    },
    "nbformat": 4,
    "nbformat_minor": 2,
    "cells": [
        {
            "cell_type": "code",
            "execution_count": 1,
            "metadata": {},
            "outputs": [],
            "source": [
                "import pandas as pd\n",
                "import numpy as np\n",
                "from matplotlib import pyplot as plt\n",
                "import numpy as np\n",
                "%matplotlib inline "
            ]
        },
        {
            "attachments": {},
            "cell_type": "markdown",
            "metadata": {},
            "source": [
                ""
            ]
        },
        {
            "cell_type": "code",
            "execution_count": 2,
            "metadata": {},
            "outputs": [],
            "source": [
                "df = pd.read_csv('originalfile.csv',engine='python')"
            ]
        },
        {
            "cell_type": "code",
            "execution_count": 3,
            "metadata": {},
            "outputs": [
                {
                    "name": "stdout",
                    "output_type": "stream",
                    "text": "\u003cclass 'pandas.core.frame.DataFrame'\u003e\nRangeIndex: 48895 entries, 0 to 48894\nData columns (total 16 columns):\n #   Column                          Non-Null Count  Dtype  \n---  ------                          --------------  -----  \n 0   id                              48895 non-null  int64  \n 1   name                            48879 non-null  object \n 2   host_id                         48895 non-null  int64  \n 3   host_name                       48874 non-null  object \n 4   neighbourhood_group             48895 non-null  object \n 5   neighbourhood                   48895 non-null  object \n 6   latitude                        48895 non-null  float64\n 7   longitude                       48895 non-null  float64\n 8   room_type                       48895 non-null  object \n 9   price                           48895 non-null  int64  \n 10  minimum_nights                  48895 non-null  int64  \n 11  number_of_reviews               48895 non-null  int64  \n 12  last_review                     38843 non-null  object \n 13  reviews_per_month               38843 non-null  float64\n 14  calculated_host_listings_count  48895 non-null  int64  \n 15  availability_365                48895 non-null  int64  \ndtypes: float64(3), int64(7), object(6)\nmemory usage: 6.0+ MB\n"
                }
            ],
            "source": [
                "df.info()"
            ]
        },
        {
            "cell_type": "code",
            "execution_count": 4,
            "metadata": {},
            "outputs": [
                {
                    "data": {
                        "text/html": "\u003cdiv\u003e\n\u003cstyle scoped\u003e\n    .dataframe tbody tr th:only-of-type {\n        vertical-align: middle;\n    }\n\n    .dataframe tbody tr th {\n        vertical-align: top;\n    }\n\n    .dataframe thead th {\n        text-align: right;\n    }\n\u003c/style\u003e\n\u003ctable border=\"1\" class=\"dataframe\"\u003e\n  \u003cthead\u003e\n    \u003ctr style=\"text-align: right;\"\u003e\n      \u003cth\u003e\u003c/th\u003e\n      \u003cth\u003eid\u003c/th\u003e\n      \u003cth\u003ename\u003c/th\u003e\n      \u003cth\u003ehost_id\u003c/th\u003e\n      \u003cth\u003ehost_name\u003c/th\u003e\n      \u003cth\u003eneighbourhood_group\u003c/th\u003e\n      \u003cth\u003eneighbourhood\u003c/th\u003e\n      \u003cth\u003elatitude\u003c/th\u003e\n      \u003cth\u003elongitude\u003c/th\u003e\n      \u003cth\u003eroom_type\u003c/th\u003e\n      \u003cth\u003eprice\u003c/th\u003e\n      \u003cth\u003eminimum_nights\u003c/th\u003e\n      \u003cth\u003enumber_of_reviews\u003c/th\u003e\n      \u003cth\u003elast_review\u003c/th\u003e\n      \u003cth\u003ereviews_per_month\u003c/th\u003e\n      \u003cth\u003ecalculated_host_listings_count\u003c/th\u003e\n      \u003cth\u003eavailability_365\u003c/th\u003e\n    \u003c/tr\u003e\n  \u003c/thead\u003e\n  \u003ctbody\u003e\n    \u003ctr\u003e\n      \u003cth\u003e0\u003c/th\u003e\n      \u003ctd\u003e2539\u003c/td\u003e\n      \u003ctd\u003eClean \u0026amp; quiet apt home by the park\u003c/td\u003e\n      \u003ctd\u003e2787\u003c/td\u003e\n      \u003ctd\u003eJohn\u003c/td\u003e\n      \u003ctd\u003eBrooklyn\u003c/td\u003e\n      \u003ctd\u003eKensington\u003c/td\u003e\n      \u003ctd\u003e40.64749\u003c/td\u003e\n      \u003ctd\u003e-73.97237\u003c/td\u003e\n      \u003ctd\u003ePrivate room\u003c/td\u003e\n      \u003ctd\u003e149\u003c/td\u003e\n      \u003ctd\u003e1\u003c/td\u003e\n      \u003ctd\u003e9\u003c/td\u003e\n      \u003ctd\u003e2018-10-19\u003c/td\u003e\n      \u003ctd\u003e0.21\u003c/td\u003e\n      \u003ctd\u003e6\u003c/td\u003e\n      \u003ctd\u003e365\u003c/td\u003e\n    \u003c/tr\u003e\n    \u003ctr\u003e\n      \u003cth\u003e1\u003c/th\u003e\n      \u003ctd\u003e2595\u003c/td\u003e\n      \u003ctd\u003eSkylit Midtown Castle\u003c/td\u003e\n      \u003ctd\u003e2845\u003c/td\u003e\n      \u003ctd\u003eJennifer\u003c/td\u003e\n      \u003ctd\u003eManhattan\u003c/td\u003e\n      \u003ctd\u003eMidtown\u003c/td\u003e\n      \u003ctd\u003e40.75362\u003c/td\u003e\n      \u003ctd\u003e-73.98377\u003c/td\u003e\n      \u003ctd\u003eEntire home/apt\u003c/td\u003e\n      \u003ctd\u003e225\u003c/td\u003e\n      \u003ctd\u003e1\u003c/td\u003e\n      \u003ctd\u003e45\u003c/td\u003e\n      \u003ctd\u003e2019-05-21\u003c/td\u003e\n      \u003ctd\u003e0.38\u003c/td\u003e\n      \u003ctd\u003e2\u003c/td\u003e\n      \u003ctd\u003e355\u003c/td\u003e\n    \u003c/tr\u003e\n    \u003ctr\u003e\n      \u003cth\u003e2\u003c/th\u003e\n      \u003ctd\u003e3647\u003c/td\u003e\n      \u003ctd\u003eTHE VILLAGE OF HARLEM....NEW YORK !\u003c/td\u003e\n      \u003ctd\u003e4632\u003c/td\u003e\n      \u003ctd\u003eElisabeth\u003c/td\u003e\n      \u003ctd\u003eManhattan\u003c/td\u003e\n      \u003ctd\u003eHarlem\u003c/td\u003e\n      \u003ctd\u003e40.80902\u003c/td\u003e\n      \u003ctd\u003e-73.94190\u003c/td\u003e\n      \u003ctd\u003ePrivate room\u003c/td\u003e\n      \u003ctd\u003e150\u003c/td\u003e\n      \u003ctd\u003e3\u003c/td\u003e\n      \u003ctd\u003e0\u003c/td\u003e\n      \u003ctd\u003eNaN\u003c/td\u003e\n      \u003ctd\u003eNaN\u003c/td\u003e\n      \u003ctd\u003e1\u003c/td\u003e\n      \u003ctd\u003e365\u003c/td\u003e\n    \u003c/tr\u003e\n    \u003ctr\u003e\n      \u003cth\u003e3\u003c/th\u003e\n      \u003ctd\u003e3831\u003c/td\u003e\n      \u003ctd\u003eCozy Entire Floor of Brownstone\u003c/td\u003e\n      \u003ctd\u003e4869\u003c/td\u003e\n      \u003ctd\u003eLisaRoxanne\u003c/td\u003e\n      \u003ctd\u003eBrooklyn\u003c/td\u003e\n      \u003ctd\u003eClinton Hill\u003c/td\u003e\n      \u003ctd\u003e40.68514\u003c/td\u003e\n      \u003ctd\u003e-73.95976\u003c/td\u003e\n      \u003ctd\u003eEntire home/apt\u003c/td\u003e\n      \u003ctd\u003e89\u003c/td\u003e\n      \u003ctd\u003e1\u003c/td\u003e\n      \u003ctd\u003e270\u003c/td\u003e\n      \u003ctd\u003e2019-07-05\u003c/td\u003e\n      \u003ctd\u003e4.64\u003c/td\u003e\n      \u003ctd\u003e1\u003c/td\u003e\n      \u003ctd\u003e194\u003c/td\u003e\n    \u003c/tr\u003e\n    \u003ctr\u003e\n      \u003cth\u003e4\u003c/th\u003e\n      \u003ctd\u003e5022\u003c/td\u003e\n      \u003ctd\u003eEntire Apt: Spacious Studio/Loft by central park\u003c/td\u003e\n      \u003ctd\u003e7192\u003c/td\u003e\n      \u003ctd\u003eLaura\u003c/td\u003e\n      \u003ctd\u003eManhattan\u003c/td\u003e\n      \u003ctd\u003eEast Harlem\u003c/td\u003e\n      \u003ctd\u003e40.79851\u003c/td\u003e\n      \u003ctd\u003e-73.94399\u003c/td\u003e\n      \u003ctd\u003eEntire home/apt\u003c/td\u003e\n      \u003ctd\u003e80\u003c/td\u003e\n      \u003ctd\u003e10\u003c/td\u003e\n      \u003ctd\u003e9\u003c/td\u003e\n      \u003ctd\u003e2018-11-19\u003c/td\u003e\n      \u003ctd\u003e0.10\u003c/td\u003e\n      \u003ctd\u003e1\u003c/td\u003e\n      \u003ctd\u003e0\u003c/td\u003e\n    \u003c/tr\u003e\n    \u003ctr\u003e\n      \u003cth\u003e5\u003c/th\u003e\n      \u003ctd\u003e5099\u003c/td\u003e\n      \u003ctd\u003eLarge Cozy 1 BR Apartment In Midtown East\u003c/td\u003e\n      \u003ctd\u003e7322\u003c/td\u003e\n      \u003ctd\u003eChris\u003c/td\u003e\n      \u003ctd\u003eManhattan\u003c/td\u003e\n      \u003ctd\u003eMurray Hill\u003c/td\u003e\n      \u003ctd\u003e40.74767\u003c/td\u003e\n      \u003ctd\u003e-73.97500\u003c/td\u003e\n      \u003ctd\u003eEntire home/apt\u003c/td\u003e\n      \u003ctd\u003e200\u003c/td\u003e\n      \u003ctd\u003e3\u003c/td\u003e\n      \u003ctd\u003e74\u003c/td\u003e\n      \u003ctd\u003e2019-06-22\u003c/td\u003e\n      \u003ctd\u003e0.59\u003c/td\u003e\n      \u003ctd\u003e1\u003c/td\u003e\n      \u003ctd\u003e129\u003c/td\u003e\n    \u003c/tr\u003e\n    \u003ctr\u003e\n      \u003cth\u003e6\u003c/th\u003e\n      \u003ctd\u003e5121\u003c/td\u003e\n      \u003ctd\u003eBlissArtsSpace!\u003c/td\u003e\n      \u003ctd\u003e7356\u003c/td\u003e\n      \u003ctd\u003eGaron\u003c/td\u003e\n      \u003ctd\u003eBrooklyn\u003c/td\u003e\n      \u003ctd\u003eBedford-Stuyvesant\u003c/td\u003e\n      \u003ctd\u003e40.68688\u003c/td\u003e\n      \u003ctd\u003e-73.95596\u003c/td\u003e\n      \u003ctd\u003ePrivate room\u003c/td\u003e\n      \u003ctd\u003e60\u003c/td\u003e\n      \u003ctd\u003e45\u003c/td\u003e\n      \u003ctd\u003e49\u003c/td\u003e\n      \u003ctd\u003e2017-10-05\u003c/td\u003e\n      \u003ctd\u003e0.40\u003c/td\u003e\n      \u003ctd\u003e1\u003c/td\u003e\n      \u003ctd\u003e0\u003c/td\u003e\n    \u003c/tr\u003e\n    \u003ctr\u003e\n      \u003cth\u003e7\u003c/th\u003e\n      \u003ctd\u003e5178\u003c/td\u003e\n      \u003ctd\u003eLarge Furnished Room Near B'way\u003c/td\u003e\n      \u003ctd\u003e8967\u003c/td\u003e\n      \u003ctd\u003eShunichi\u003c/td\u003e\n      \u003ctd\u003eManhattan\u003c/td\u003e\n      \u003ctd\u003eHell's Kitchen\u003c/td\u003e\n      \u003ctd\u003e40.76489\u003c/td\u003e\n      \u003ctd\u003e-73.98493\u003c/td\u003e\n      \u003ctd\u003ePrivate room\u003c/td\u003e\n      \u003ctd\u003e79\u003c/td\u003e\n      \u003ctd\u003e2\u003c/td\u003e\n      \u003ctd\u003e430\u003c/td\u003e\n      \u003ctd\u003e2019-06-24\u003c/td\u003e\n      \u003ctd\u003e3.47\u003c/td\u003e\n      \u003ctd\u003e1\u003c/td\u003e\n      \u003ctd\u003e220\u003c/td\u003e\n    \u003c/tr\u003e\n    \u003ctr\u003e\n      \u003cth\u003e8\u003c/th\u003e\n      \u003ctd\u003e5203\u003c/td\u003e\n      \u003ctd\u003eCozy Clean Guest Room - Family Apt\u003c/td\u003e\n      \u003ctd\u003e7490\u003c/td\u003e\n      \u003ctd\u003eMaryEllen\u003c/td\u003e\n      \u003ctd\u003eManhattan\u003c/td\u003e\n      \u003ctd\u003eUpper West Side\u003c/td\u003e\n      \u003ctd\u003e40.80178\u003c/td\u003e\n      \u003ctd\u003e-73.96723\u003c/td\u003e\n      \u003ctd\u003ePrivate room\u003c/td\u003e\n      \u003ctd\u003e79\u003c/td\u003e\n      \u003ctd\u003e2\u003c/td\u003e\n      \u003ctd\u003e118\u003c/td\u003e\n      \u003ctd\u003e2017-07-21\u003c/td\u003e\n      \u003ctd\u003e0.99\u003c/td\u003e\n      \u003ctd\u003e1\u003c/td\u003e\n      \u003ctd\u003e0\u003c/td\u003e\n    \u003c/tr\u003e\n    \u003ctr\u003e\n      \u003cth\u003e9\u003c/th\u003e\n      \u003ctd\u003e5238\u003c/td\u003e\n      \u003ctd\u003eCute \u0026amp; Cozy Lower East Side 1 bdrm\u003c/td\u003e\n      \u003ctd\u003e7549\u003c/td\u003e\n      \u003ctd\u003eBen\u003c/td\u003e\n      \u003ctd\u003eManhattan\u003c/td\u003e\n      \u003ctd\u003eChinatown\u003c/td\u003e\n      \u003ctd\u003e40.71344\u003c/td\u003e\n      \u003ctd\u003e-73.99037\u003c/td\u003e\n      \u003ctd\u003eEntire home/apt\u003c/td\u003e\n      \u003ctd\u003e150\u003c/td\u003e\n      \u003ctd\u003e1\u003c/td\u003e\n      \u003ctd\u003e160\u003c/td\u003e\n      \u003ctd\u003e2019-06-09\u003c/td\u003e\n      \u003ctd\u003e1.33\u003c/td\u003e\n      \u003ctd\u003e4\u003c/td\u003e\n      \u003ctd\u003e188\u003c/td\u003e\n    \u003c/tr\u003e\n  \u003c/tbody\u003e\n\u003c/table\u003e\n\u003c/div\u003e",
                        "text/plain": "     id                                              name  host_id  \\\n0  2539                Clean \u0026 quiet apt home by the park     2787   \n1  2595                             Skylit Midtown Castle     2845   \n2  3647               THE VILLAGE OF HARLEM....NEW YORK !     4632   \n3  3831                   Cozy Entire Floor of Brownstone     4869   \n4  5022  Entire Apt: Spacious Studio/Loft by central park     7192   \n5  5099         Large Cozy 1 BR Apartment In Midtown East     7322   \n6  5121                                   BlissArtsSpace!     7356   \n7  5178                  Large Furnished Room Near B'way      8967   \n8  5203                Cozy Clean Guest Room - Family Apt     7490   \n9  5238                Cute \u0026 Cozy Lower East Side 1 bdrm     7549   \n\n     host_name neighbourhood_group       neighbourhood  latitude  longitude  \\\n0         John            Brooklyn          Kensington  40.64749  -73.97237   \n1     Jennifer           Manhattan             Midtown  40.75362  -73.98377   \n2    Elisabeth           Manhattan              Harlem  40.80902  -73.94190   \n3  LisaRoxanne            Brooklyn        Clinton Hill  40.68514  -73.95976   \n4        Laura           Manhattan         East Harlem  40.79851  -73.94399   \n5        Chris           Manhattan         Murray Hill  40.74767  -73.97500   \n6        Garon            Brooklyn  Bedford-Stuyvesant  40.68688  -73.95596   \n7     Shunichi           Manhattan      Hell's Kitchen  40.76489  -73.98493   \n8    MaryEllen           Manhattan     Upper West Side  40.80178  -73.96723   \n9          Ben           Manhattan           Chinatown  40.71344  -73.99037   \n\n         room_type  price  minimum_nights  number_of_reviews last_review  \\\n0     Private room    149               1                  9  2018-10-19   \n1  Entire home/apt    225               1                 45  2019-05-21   \n2     Private room    150               3                  0         NaN   \n3  Entire home/apt     89               1                270  2019-07-05   \n4  Entire home/apt     80              10                  9  2018-11-19   \n5  Entire home/apt    200               3                 74  2019-06-22   \n6     Private room     60              45                 49  2017-10-05   \n7     Private room     79               2                430  2019-06-24   \n8     Private room     79               2                118  2017-07-21   \n9  Entire home/apt    150               1                160  2019-06-09   \n\n   reviews_per_month  calculated_host_listings_count  availability_365  \n0               0.21                               6               365  \n1               0.38                               2               355  \n2                NaN                               1               365  \n3               4.64                               1               194  \n4               0.10                               1                 0  \n5               0.59                               1               129  \n6               0.40                               1                 0  \n7               3.47                               1               220  \n8               0.99                               1                 0  \n9               1.33                               4               188  "
                    },
                    "execution_count": 4,
                    "metadata": {},
                    "output_type": "execute_result"
                }
            ],
            "source": [
                "df.head(10)"
            ]
        },
        {
            "cell_type": "code",
            "execution_count": 5,
            "metadata": {},
            "outputs": [
                {
                    "data": {
                        "text/html": "\u003cdiv\u003e\n\u003cstyle scoped\u003e\n    .dataframe tbody tr th:only-of-type {\n        vertical-align: middle;\n    }\n\n    .dataframe tbody tr th {\n        vertical-align: top;\n    }\n\n    .dataframe thead th {\n        text-align: right;\n    }\n\u003c/style\u003e\n\u003ctable border=\"1\" class=\"dataframe\"\u003e\n  \u003cthead\u003e\n    \u003ctr style=\"text-align: right;\"\u003e\n      \u003cth\u003e\u003c/th\u003e\n      \u003cth\u003eid\u003c/th\u003e\n      \u003cth\u003ehost_id\u003c/th\u003e\n      \u003cth\u003elatitude\u003c/th\u003e\n      \u003cth\u003elongitude\u003c/th\u003e\n      \u003cth\u003eprice\u003c/th\u003e\n      \u003cth\u003eminimum_nights\u003c/th\u003e\n      \u003cth\u003enumber_of_reviews\u003c/th\u003e\n      \u003cth\u003ereviews_per_month\u003c/th\u003e\n      \u003cth\u003ecalculated_host_listings_count\u003c/th\u003e\n      \u003cth\u003eavailability_365\u003c/th\u003e\n    \u003c/tr\u003e\n  \u003c/thead\u003e\n  \u003ctbody\u003e\n    \u003ctr\u003e\n      \u003cth\u003ecount\u003c/th\u003e\n      \u003ctd\u003e4.889500e+04\u003c/td\u003e\n      \u003ctd\u003e4.889500e+04\u003c/td\u003e\n      \u003ctd\u003e48895.000000\u003c/td\u003e\n      \u003ctd\u003e48895.000000\u003c/td\u003e\n      \u003ctd\u003e48895.000000\u003c/td\u003e\n      \u003ctd\u003e48895.000000\u003c/td\u003e\n      \u003ctd\u003e48895.000000\u003c/td\u003e\n      \u003ctd\u003e38843.000000\u003c/td\u003e\n      \u003ctd\u003e48895.000000\u003c/td\u003e\n      \u003ctd\u003e48895.000000\u003c/td\u003e\n    \u003c/tr\u003e\n    \u003ctr\u003e\n      \u003cth\u003emean\u003c/th\u003e\n      \u003ctd\u003e1.901714e+07\u003c/td\u003e\n      \u003ctd\u003e6.762001e+07\u003c/td\u003e\n      \u003ctd\u003e40.728949\u003c/td\u003e\n      \u003ctd\u003e-73.952170\u003c/td\u003e\n      \u003ctd\u003e152.720687\u003c/td\u003e\n      \u003ctd\u003e7.029962\u003c/td\u003e\n      \u003ctd\u003e23.274466\u003c/td\u003e\n      \u003ctd\u003e1.373221\u003c/td\u003e\n      \u003ctd\u003e7.143982\u003c/td\u003e\n      \u003ctd\u003e112.781327\u003c/td\u003e\n    \u003c/tr\u003e\n    \u003ctr\u003e\n      \u003cth\u003estd\u003c/th\u003e\n      \u003ctd\u003e1.098311e+07\u003c/td\u003e\n      \u003ctd\u003e7.861097e+07\u003c/td\u003e\n      \u003ctd\u003e0.054530\u003c/td\u003e\n      \u003ctd\u003e0.046157\u003c/td\u003e\n      \u003ctd\u003e240.154170\u003c/td\u003e\n      \u003ctd\u003e20.510550\u003c/td\u003e\n      \u003ctd\u003e44.550582\u003c/td\u003e\n      \u003ctd\u003e1.680442\u003c/td\u003e\n      \u003ctd\u003e32.952519\u003c/td\u003e\n      \u003ctd\u003e131.622289\u003c/td\u003e\n    \u003c/tr\u003e\n    \u003ctr\u003e\n      \u003cth\u003emin\u003c/th\u003e\n      \u003ctd\u003e2.539000e+03\u003c/td\u003e\n      \u003ctd\u003e2.438000e+03\u003c/td\u003e\n      \u003ctd\u003e40.499790\u003c/td\u003e\n      \u003ctd\u003e-74.244420\u003c/td\u003e\n      \u003ctd\u003e0.000000\u003c/td\u003e\n      \u003ctd\u003e1.000000\u003c/td\u003e\n      \u003ctd\u003e0.000000\u003c/td\u003e\n      \u003ctd\u003e0.010000\u003c/td\u003e\n      \u003ctd\u003e1.000000\u003c/td\u003e\n      \u003ctd\u003e0.000000\u003c/td\u003e\n    \u003c/tr\u003e\n    \u003ctr\u003e\n      \u003cth\u003e25%\u003c/th\u003e\n      \u003ctd\u003e9.471945e+06\u003c/td\u003e\n      \u003ctd\u003e7.822033e+06\u003c/td\u003e\n      \u003ctd\u003e40.690100\u003c/td\u003e\n      \u003ctd\u003e-73.983070\u003c/td\u003e\n      \u003ctd\u003e69.000000\u003c/td\u003e\n      \u003ctd\u003e1.000000\u003c/td\u003e\n      \u003ctd\u003e1.000000\u003c/td\u003e\n      \u003ctd\u003e0.190000\u003c/td\u003e\n      \u003ctd\u003e1.000000\u003c/td\u003e\n      \u003ctd\u003e0.000000\u003c/td\u003e\n    \u003c/tr\u003e\n    \u003ctr\u003e\n      \u003cth\u003e50%\u003c/th\u003e\n      \u003ctd\u003e1.967728e+07\u003c/td\u003e\n      \u003ctd\u003e3.079382e+07\u003c/td\u003e\n      \u003ctd\u003e40.723070\u003c/td\u003e\n      \u003ctd\u003e-73.955680\u003c/td\u003e\n      \u003ctd\u003e106.000000\u003c/td\u003e\n      \u003ctd\u003e3.000000\u003c/td\u003e\n      \u003ctd\u003e5.000000\u003c/td\u003e\n      \u003ctd\u003e0.720000\u003c/td\u003e\n      \u003ctd\u003e1.000000\u003c/td\u003e\n      \u003ctd\u003e45.000000\u003c/td\u003e\n    \u003c/tr\u003e\n    \u003ctr\u003e\n      \u003cth\u003e75%\u003c/th\u003e\n      \u003ctd\u003e2.915218e+07\u003c/td\u003e\n      \u003ctd\u003e1.074344e+08\u003c/td\u003e\n      \u003ctd\u003e40.763115\u003c/td\u003e\n      \u003ctd\u003e-73.936275\u003c/td\u003e\n      \u003ctd\u003e175.000000\u003c/td\u003e\n      \u003ctd\u003e5.000000\u003c/td\u003e\n      \u003ctd\u003e24.000000\u003c/td\u003e\n      \u003ctd\u003e2.020000\u003c/td\u003e\n      \u003ctd\u003e2.000000\u003c/td\u003e\n      \u003ctd\u003e227.000000\u003c/td\u003e\n    \u003c/tr\u003e\n    \u003ctr\u003e\n      \u003cth\u003emax\u003c/th\u003e\n      \u003ctd\u003e3.648724e+07\u003c/td\u003e\n      \u003ctd\u003e2.743213e+08\u003c/td\u003e\n      \u003ctd\u003e40.913060\u003c/td\u003e\n      \u003ctd\u003e-73.712990\u003c/td\u003e\n      \u003ctd\u003e10000.000000\u003c/td\u003e\n      \u003ctd\u003e1250.000000\u003c/td\u003e\n      \u003ctd\u003e629.000000\u003c/td\u003e\n      \u003ctd\u003e58.500000\u003c/td\u003e\n      \u003ctd\u003e327.000000\u003c/td\u003e\n      \u003ctd\u003e365.000000\u003c/td\u003e\n    \u003c/tr\u003e\n  \u003c/tbody\u003e\n\u003c/table\u003e\n\u003c/div\u003e",
                        "text/plain": "                 id       host_id      latitude     longitude         price  \\\ncount  4.889500e+04  4.889500e+04  48895.000000  48895.000000  48895.000000   \nmean   1.901714e+07  6.762001e+07     40.728949    -73.952170    152.720687   \nstd    1.098311e+07  7.861097e+07      0.054530      0.046157    240.154170   \nmin    2.539000e+03  2.438000e+03     40.499790    -74.244420      0.000000   \n25%    9.471945e+06  7.822033e+06     40.690100    -73.983070     69.000000   \n50%    1.967728e+07  3.079382e+07     40.723070    -73.955680    106.000000   \n75%    2.915218e+07  1.074344e+08     40.763115    -73.936275    175.000000   \nmax    3.648724e+07  2.743213e+08     40.913060    -73.712990  10000.000000   \n\n       minimum_nights  number_of_reviews  reviews_per_month  \\\ncount    48895.000000       48895.000000       38843.000000   \nmean         7.029962          23.274466           1.373221   \nstd         20.510550          44.550582           1.680442   \nmin          1.000000           0.000000           0.010000   \n25%          1.000000           1.000000           0.190000   \n50%          3.000000           5.000000           0.720000   \n75%          5.000000          24.000000           2.020000   \nmax       1250.000000         629.000000          58.500000   \n\n       calculated_host_listings_count  availability_365  \ncount                    48895.000000      48895.000000  \nmean                         7.143982        112.781327  \nstd                         32.952519        131.622289  \nmin                          1.000000          0.000000  \n25%                          1.000000          0.000000  \n50%                          1.000000         45.000000  \n75%                          2.000000        227.000000  \nmax                        327.000000        365.000000  "
                    },
                    "execution_count": 5,
                    "metadata": {},
                    "output_type": "execute_result"
                }
            ],
            "source": [
                "df.describe()"
            ]
        },
        {
            "cell_type": "code",
            "execution_count": 6,
            "metadata": {},
            "outputs": [
                {
                    "data": {
                        "text/plain": "Index(['id', 'name', 'host_id', 'host_name', 'neighbourhood_group',\n       'neighbourhood', 'latitude', 'longitude', 'room_type', 'price',\n       'minimum_nights', 'number_of_reviews', 'last_review',\n       'reviews_per_month', 'calculated_host_listings_count',\n       'availability_365'],\n      dtype='object')"
                    },
                    "execution_count": 6,
                    "metadata": {},
                    "output_type": "execute_result"
                }
            ],
            "source": [
                "df.columns"
            ]
        },
        {
            "cell_type": "code",
            "execution_count": 7,
            "metadata": {},
            "outputs": [
                {
                    "data": {
                        "text/html": "\u003cdiv\u003e\n\u003cstyle scoped\u003e\n    .dataframe tbody tr th:only-of-type {\n        vertical-align: middle;\n    }\n\n    .dataframe tbody tr th {\n        vertical-align: top;\n    }\n\n    .dataframe thead th {\n        text-align: right;\n    }\n\u003c/style\u003e\n\u003ctable border=\"1\" class=\"dataframe\"\u003e\n  \u003cthead\u003e\n    \u003ctr style=\"text-align: right;\"\u003e\n      \u003cth\u003e\u003c/th\u003e\n      \u003cth\u003eid\u003c/th\u003e\n      \u003cth\u003ename\u003c/th\u003e\n      \u003cth\u003ehost_id\u003c/th\u003e\n      \u003cth\u003ehost_name\u003c/th\u003e\n      \u003cth\u003eneighbourhood_group\u003c/th\u003e\n      \u003cth\u003eneighbourhood\u003c/th\u003e\n      \u003cth\u003elatitude\u003c/th\u003e\n      \u003cth\u003elongitude\u003c/th\u003e\n      \u003cth\u003eroom_type\u003c/th\u003e\n      \u003cth\u003eprice\u003c/th\u003e\n      \u003cth\u003eminimum_nights\u003c/th\u003e\n      \u003cth\u003enumber_of_reviews\u003c/th\u003e\n      \u003cth\u003elast_review\u003c/th\u003e\n      \u003cth\u003ereviews_per_month\u003c/th\u003e\n      \u003cth\u003ecalculated_host_listings_count\u003c/th\u003e\n      \u003cth\u003eavailability_365\u003c/th\u003e\n    \u003c/tr\u003e\n  \u003c/thead\u003e\n  \u003ctbody\u003e\n    \u003ctr\u003e\n      \u003cth\u003e48890\u003c/th\u003e\n      \u003ctd\u003e36484665\u003c/td\u003e\n      \u003ctd\u003eCharming one bedroom - newly renovated rowhouse\u003c/td\u003e\n      \u003ctd\u003e8232441\u003c/td\u003e\n      \u003ctd\u003eSabrina\u003c/td\u003e\n      \u003ctd\u003eBrooklyn\u003c/td\u003e\n      \u003ctd\u003eBedford-Stuyvesant\u003c/td\u003e\n      \u003ctd\u003e40.67853\u003c/td\u003e\n      \u003ctd\u003e-73.94995\u003c/td\u003e\n      \u003ctd\u003ePrivate room\u003c/td\u003e\n      \u003ctd\u003e70\u003c/td\u003e\n      \u003ctd\u003e2\u003c/td\u003e\n      \u003ctd\u003e0\u003c/td\u003e\n      \u003ctd\u003eNaN\u003c/td\u003e\n      \u003ctd\u003eNaN\u003c/td\u003e\n      \u003ctd\u003e2\u003c/td\u003e\n      \u003ctd\u003e9\u003c/td\u003e\n    \u003c/tr\u003e\n    \u003ctr\u003e\n      \u003cth\u003e48891\u003c/th\u003e\n      \u003ctd\u003e36485057\u003c/td\u003e\n      \u003ctd\u003eAffordable room in Bushwick/East Williamsburg\u003c/td\u003e\n      \u003ctd\u003e6570630\u003c/td\u003e\n      \u003ctd\u003eMarisol\u003c/td\u003e\n      \u003ctd\u003eBrooklyn\u003c/td\u003e\n      \u003ctd\u003eBushwick\u003c/td\u003e\n      \u003ctd\u003e40.70184\u003c/td\u003e\n      \u003ctd\u003e-73.93317\u003c/td\u003e\n      \u003ctd\u003ePrivate room\u003c/td\u003e\n      \u003ctd\u003e40\u003c/td\u003e\n      \u003ctd\u003e4\u003c/td\u003e\n      \u003ctd\u003e0\u003c/td\u003e\n      \u003ctd\u003eNaN\u003c/td\u003e\n      \u003ctd\u003eNaN\u003c/td\u003e\n      \u003ctd\u003e2\u003c/td\u003e\n      \u003ctd\u003e36\u003c/td\u003e\n    \u003c/tr\u003e\n    \u003ctr\u003e\n      \u003cth\u003e48892\u003c/th\u003e\n      \u003ctd\u003e36485431\u003c/td\u003e\n      \u003ctd\u003eSunny Studio at Historical Neighborhood\u003c/td\u003e\n      \u003ctd\u003e23492952\u003c/td\u003e\n      \u003ctd\u003eIlgar \u0026amp; Aysel\u003c/td\u003e\n      \u003ctd\u003eManhattan\u003c/td\u003e\n      \u003ctd\u003eHarlem\u003c/td\u003e\n      \u003ctd\u003e40.81475\u003c/td\u003e\n      \u003ctd\u003e-73.94867\u003c/td\u003e\n      \u003ctd\u003eEntire home/apt\u003c/td\u003e\n      \u003ctd\u003e115\u003c/td\u003e\n      \u003ctd\u003e10\u003c/td\u003e\n      \u003ctd\u003e0\u003c/td\u003e\n      \u003ctd\u003eNaN\u003c/td\u003e\n      \u003ctd\u003eNaN\u003c/td\u003e\n      \u003ctd\u003e1\u003c/td\u003e\n      \u003ctd\u003e27\u003c/td\u003e\n    \u003c/tr\u003e\n    \u003ctr\u003e\n      \u003cth\u003e48893\u003c/th\u003e\n      \u003ctd\u003e36485609\u003c/td\u003e\n      \u003ctd\u003e43rd St. Time Square-cozy single bed\u003c/td\u003e\n      \u003ctd\u003e30985759\u003c/td\u003e\n      \u003ctd\u003eTaz\u003c/td\u003e\n      \u003ctd\u003eManhattan\u003c/td\u003e\n      \u003ctd\u003eHell's Kitchen\u003c/td\u003e\n      \u003ctd\u003e40.75751\u003c/td\u003e\n      \u003ctd\u003e-73.99112\u003c/td\u003e\n      \u003ctd\u003eShared room\u003c/td\u003e\n      \u003ctd\u003e55\u003c/td\u003e\n      \u003ctd\u003e1\u003c/td\u003e\n      \u003ctd\u003e0\u003c/td\u003e\n      \u003ctd\u003eNaN\u003c/td\u003e\n      \u003ctd\u003eNaN\u003c/td\u003e\n      \u003ctd\u003e6\u003c/td\u003e\n      \u003ctd\u003e2\u003c/td\u003e\n    \u003c/tr\u003e\n    \u003ctr\u003e\n      \u003cth\u003e48894\u003c/th\u003e\n      \u003ctd\u003e36487245\u003c/td\u003e\n      \u003ctd\u003eTrendy duplex in the very heart of Hell's Kitchen\u003c/td\u003e\n      \u003ctd\u003e68119814\u003c/td\u003e\n      \u003ctd\u003eChristophe\u003c/td\u003e\n      \u003ctd\u003eManhattan\u003c/td\u003e\n      \u003ctd\u003eHell's Kitchen\u003c/td\u003e\n      \u003ctd\u003e40.76404\u003c/td\u003e\n      \u003ctd\u003e-73.98933\u003c/td\u003e\n      \u003ctd\u003ePrivate room\u003c/td\u003e\n      \u003ctd\u003e90\u003c/td\u003e\n      \u003ctd\u003e7\u003c/td\u003e\n      \u003ctd\u003e0\u003c/td\u003e\n      \u003ctd\u003eNaN\u003c/td\u003e\n      \u003ctd\u003eNaN\u003c/td\u003e\n      \u003ctd\u003e1\u003c/td\u003e\n      \u003ctd\u003e23\u003c/td\u003e\n    \u003c/tr\u003e\n  \u003c/tbody\u003e\n\u003c/table\u003e\n\u003c/div\u003e",
                        "text/plain": "             id                                               name   host_id  \\\n48890  36484665    Charming one bedroom - newly renovated rowhouse   8232441   \n48891  36485057      Affordable room in Bushwick/East Williamsburg   6570630   \n48892  36485431            Sunny Studio at Historical Neighborhood  23492952   \n48893  36485609               43rd St. Time Square-cozy single bed  30985759   \n48894  36487245  Trendy duplex in the very heart of Hell's Kitchen  68119814   \n\n           host_name neighbourhood_group       neighbourhood  latitude  \\\n48890        Sabrina            Brooklyn  Bedford-Stuyvesant  40.67853   \n48891        Marisol            Brooklyn            Bushwick  40.70184   \n48892  Ilgar \u0026 Aysel           Manhattan              Harlem  40.81475   \n48893            Taz           Manhattan      Hell's Kitchen  40.75751   \n48894     Christophe           Manhattan      Hell's Kitchen  40.76404   \n\n       longitude        room_type  price  minimum_nights  number_of_reviews  \\\n48890  -73.94995     Private room     70               2                  0   \n48891  -73.93317     Private room     40               4                  0   \n48892  -73.94867  Entire home/apt    115              10                  0   \n48893  -73.99112      Shared room     55               1                  0   \n48894  -73.98933     Private room     90               7                  0   \n\n      last_review  reviews_per_month  calculated_host_listings_count  \\\n48890         NaN                NaN                               2   \n48891         NaN                NaN                               2   \n48892         NaN                NaN                               1   \n48893         NaN                NaN                               6   \n48894         NaN                NaN                               1   \n\n       availability_365  \n48890                 9  \n48891                36  \n48892                27  \n48893                 2  \n48894                23  "
                    },
                    "execution_count": 7,
                    "metadata": {},
                    "output_type": "execute_result"
                }
            ],
            "source": [
                "df.tail() # Check the bottom 5 rows"
            ]
        },
        {
            "attachments": {},
            "cell_type": "markdown",
            "metadata": {},
            "source": [
                "# Missing Data\n",
                "Some columns have missing values. For our analysis, we only want to keep rows with complete data.\n",
                "Note that \"NaN\" stands for \"Not a Number\" and means the data is missing."
            ]
        },
        {
            "cell_type": "code",
            "execution_count": 8,
            "metadata": {},
            "outputs": [
                {
                    "data": {
                        "text/plain": "id                                False\nname                               True\nhost_id                           False\nhost_name                          True\nneighbourhood_group               False\nneighbourhood                     False\nlatitude                          False\nlongitude                         False\nroom_type                         False\nprice                             False\nminimum_nights                    False\nnumber_of_reviews                 False\nlast_review                        True\nreviews_per_month                  True\ncalculated_host_listings_count    False\navailability_365                  False\ndtype: bool"
                    },
                    "execution_count": 8,
                    "metadata": {},
                    "output_type": "execute_result"
                }
            ],
            "source": [
                "# This will give us a list of the columns that contain NaN \n",
                "# NaN stands for \"Not a Number\", or that there is no value in there (it's missing)\n",
                "# Note: edit your file to get rid of the null entries until the code returns False for all columns\n",
                "pd.isnull(df).sum() \u003e 0"
            ]
        },
        {
            "cell_type": "code",
            "execution_count": 9,
            "metadata": {},
            "outputs": [],
            "source": [
                ""
            ]
        },
        {
            "cell_type": "code",
            "execution_count": 10,
            "metadata": {},
            "outputs": [],
            "source": [
                ""
            ]
        }
    ]
}
